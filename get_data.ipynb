{
 "cells": [
  {
   "cell_type": "code",
   "execution_count": 2,
   "metadata": {},
   "outputs": [
    {
     "name": "stdout",
     "output_type": "stream",
     "text": [
      "{'categoria': 'Cuentas y Tarjetas', 'urls': ['https://www.banorte.com/wps/portal/banorte/Home/cuentas-y-tarjetas/tarjeta-de-debito-con-chequera/cuenta-enlace-personal', 'https://www.banorte.com/wps/portal/banorte/Home/cuentas-y-tarjetas/tarjeta-de-debito-con-chequera#:~:text=ser%20el%20l%C3%ADmite-,Ver%20m%C3%A1s,-SUMA%20MENORES', 'https://www.banorte.com/wps/portal/banorte/Home/cuentas-y-tarjetas/tarjeta-de-debito-con-chequera#:~:text=tu%20vida%20financiera-,Ver%20m%C3%A1s,-CUENTA%20MUJER%20BANORTE', 'https://www.banorte.com/wps/portal/banorte/Home/cuentas-y-tarjetas/tarjeta-de-debito-con-chequera/mujer-banorte', 'https://www.banorte.com/wps/portal/banorte/Home/cuentas-y-tarjetas/tarjeta-de-debito-con-chequera/banorte-facil', 'https://www.banorte.com/wps/portal/banorte/Home/cuentas-y-tarjetas/tarjeta-de-debito-con-chequera/enlace-digital', 'https://www.banorte.com/wps/portal/banorte/Home/cuentas-y-tarjetas/tarjetas-de-credito/banorte-one-up', 'https://www.banorte.com/wps/portal/banorte/Home/cuentas-y-tarjetas/tarjetas-de-credito/clasica', 'https://www.banorte.com/wps/portal/banorte/Home/cuentas-y-tarjetas/tarjetas-de-credito/oro', 'https://www.banorte.com/wps/portal/banorte/Home/cuentas-y-tarjetas/tarjetas-de-credito#:~:text=en%20momentos%20importantes-,Ver%20m%C3%A1s,-AT%26T', 'https://www.banorte.com/wps/portal/banorte/Home/cuentas-y-tarjetas/tarjetas-de-credito#:~:text=adicionales%20cada%20mes-,Ver%20m%C3%A1s,-BanorTec%20Bit', 'https://www.banorte.com/wps/portal/banorte/Home/cuentas-y-tarjetas/tarjetas-de-credito#:~:text=la%20comunidad%20ITESM-,Ver%20m%C3%A1s,-Selecci%C3%B3n%20Nacional', 'https://www.banorte.com/wps/portal/banorte/Home/cuentas-y-tarjetas/tarjetas-de-credito#:~:text=pasi%C3%B3n%20por%20M%C3%A9xico.-,Ver%20m%C3%A1s,-Beneficios%20en%20efectivo', 'https://www.banorte.com/wps/portal/banorte/Home/cuentas-y-tarjetas/tarjetas-de-credito/tdc-asistencias/', 'https://www.banorte.com/wps/portal/banorte/Home/cuentas-y-tarjetas/tarjetas-de-debito/asistencias-tdd', 'https://www.banorte.com/wps/portal/banorte/Home/cuentas-y-tarjetas/con-tu-nip-compras-mas-seguro', 'https://www.banorte.com/cms/banortec/index.html#!/']}\n",
      "{'categoria': 'Créditos', 'urls': ['https://www.banorte.com/wps/portal/banorte/Home/creditos/credito-personal', 'https://www.banorte.com/wps/portal/banorte/Home/creditos/credito-automotriz/autoestrene-banorte', 'https://www.banorte.com/wps/portal/banorte/Home/creditos/credito-automotriz/autoestrene-banorte-seminuevos', 'https://www.banorte.com/wps/portal/banorte/Home/creditos/credito-automotriz/autoestrene-nomina', 'https://www.banorte.com/wps/portal/banorte/Home/creditos/credito-automotriz/autoestrene-nomina-seminuevos', 'https://www.banorte.com/wps/portal/banorte/Home/creditos/credito-automotriz/Autoestrene-Verde-Banorte', 'https://www.banorte.com/wps/portal/banorte/Home/creditos/credito-hipotecario/adquisicion-de-vivienda', 'https://www.banorte.com/wps/portal/banorte/Home/creditos/credito-hipotecario/mejora-tu-hipoteca', 'https://www.banorte.com/wps/portal/banorte/Home/creditos/credito-hipotecario/remodela-tu-casa-remodelacion', 'https://www.banorte.com/wps/portal/banorte/Home/creditos/credito-hipotecario/construccion-y-o-compra-de-terreno', 'https://www.banorte.com/wps/portal/banorte/Home/creditos/credito-hipotecario/reserva-tu-casa', 'https://www.banorte.com/wps/portal/banorte/Home/creditos/credito-hipotecario/fovisste-para-todos', 'https://www.banorte.com/wps/portal/banorte/Home/creditos/credito-hipotecario/liquidez', 'https://www.banorte.com/wps/portal/banorte/Home/creditos/credito-de-nomina/adelanto-nomina', 'https://www.banorte.com/wps/portal/banorte/Home/creditos/credito-de-nomina/nomina', 'https://www.banorte.com/wps/portal/banorte/Home/creditos/credito-personal']}\n",
      "{'categoria': 'Ahorro e Inversión', 'urls': ['https://www.banorte.com/wps/portal/banorte/Home/inversion-ahorro/afores-pensiones/cuenta-individual', 'https://www.banorte.com/wps/portal/banorte/Home/inversion-ahorro/afores-pensiones/ahorro-voluntario', 'https://www.banorte.com/wps/portal/banorte/Home/inversion-ahorro/instrumentos-inversion/pagare-banorte', 'https://www.banorte.com/wps/portal/banorte/Home/inversion-ahorro/instrumentos-inversion/altos-rendimientos', 'https://www.banorte.com/wps/portal/banorte/Home/inversion-ahorro/instrumentos-inversion/pagare-digital', 'https://www.banorte.com/wps/portal/banorte/Home/inversion-ahorro/instrumentos-inversion/inversion.inversion-cd', 'https://www.banorte.com/wps/portal/banorte/Home/inversion-ahorro/instrumentos-inversion/inversion.inversion-plus', 'https://www.banorte.com/wps/portal/banorte/Home/inversion-ahorro/fideicomisos/planeacion-patrimonial', 'https://www.banorte.com/wps/portal/banorte/Home/inversion-ahorro/fideicomisos/administracion-inversion', 'https://www.banorte.com/wps/portal/banorte/Home/inversion-ahorro/fideicomisos/control-accionario', 'https://www.banorte.com/wps/portal/banorte/Home/inversion-ahorro/fideicomisos/desarrollo-inmobiliario', 'https://www.banorte.com/wps/portal/banorte/Home/inversion-ahorro/fideicomisos/otros', 'https://www.banorte.com/wps/portal/banorte/Home/inversion-ahorro/fideicomisos/zona-restringida', 'https://www.banorte.com/wps/portal/banorte/Home/inversion-ahorro/inversion.mercado-dinero', 'https://www.banorte.com/wps/portal/ixe-xima/Home/productos-financieros/notas-estructuradas/', 'https://www.banorte.com/wps/portal/banorte/Home/inversion-ahorro/fondos-de-inversion', 'https://finanzasenlinea.infosel.com/BanorteIxe/CalculadoraFondos/downloads/GlosarioFormato.pdf']}\n",
      "{'categoria': 'Seguros', 'urls': ['https://www.banorte.com/wps/portal/banorte/Home/seguros/seguro-vida/vida', 'https://www.banorte.com/wps/portal/banorte/Home/seguros/seguro-vida/repatriacion', 'https://www.banorte.com/wps/portal/banorte/Home/seguros/seguro-vida/seguro-apoyo-vida', 'https://www.banorte.com/wps/portal/banorte/Home/seguros/seguro-vida/proteccion-vida', 'https://www.banorte.com/wps/portal/banorte/Home/seguros/seguro-vida/proteccion-hospitalaria', 'https://www.banorte.com/wps/portal/banorte/Home/seguros/seguro-vida/proteccion-covida-banorte', 'https://www.banorte.com/wps/portal/banorte/Home/seguros/seguro-vida/vida-banorte-digital', 'https://www.banorte.com/wps/portal/banorte/Home/seguros/proteccion-integral/proteccion-integral/', 'https://www.banorte.com/wps/portal/banorte/$project/CONT-01-01/Home/seguros/proteccion-integral/proteccion-integral-plus', 'https://www.banorte.com/wps/portal/banorte/Home/seguros/proteccion-integral/cajero-automatico/', 'https://www.banorte.com/wps/portal/banorte/Home/seguros/proteccion-integral/robo-de-bienes-personales', 'https://www.banorte.com/wps/portal/banorte/Home/seguros/proteccion-integral-plus/', 'https://www.banorte.com/wps/portal/banorte/Home/seguros/seguro-auto/auto', 'https://www.banorte.com/wps/portal/banorte/Home/seguros/seguro-auto/auto-fronterizo', 'https://www.banorte.com/wps/portal/banorte/Home/seguros/seguro-auto/mujer', 'https://www.banorte.com/wps/portal/banorte/Home/seguros/seguro-auto/taxi', 'https://www.banorte.com/wps/portal/banorte/Home/seguros/seguro-auto/proteccion-conductor', 'https://www.banorte.com/wps/portal/banorte/Home/seguros/seguro-auto/socio-conductor-app', 'https://www.banorte.com/wps/portal/banorte/$project/CONT-12-01/Home/seguros/hogar/hogar-protegido-banorte', 'https://www.banorte.com/wps/portal/banorte/$project/CONT-12-01/Home/seguros/hogar/proteccion-hogar-banorte', 'https://www.banorte.com/wps/portal/banorte/Home/seguros/seguro-salud/accidentes-personales', 'https://www.banorte.com/wps/portal/banorte/Home/seguros/seguro-salud/vida-hospitalaria', 'https://www.banorte.com/wps/portal/banorte/Home/seguros/seguro-salud/proteccion-personal/', 'https://www.banorte.com/wps/portal/banorte/Home/inicio/!ut/p/z1/hY5NC4JAEIZ_SwevzuR33ZYNNJMUSrK9hMa2GuqKmv79pLoEfcztnfd5hgEGCbA6HQqR9oWs03LKR2adXG3ueDrFTRjFOhIaxjQyV9resuHwD2BTjV-G4OSzB0Jd4hl2gBgarobE2frGzlxouLZewI8bPjBRyuz5Lqkz3RHAWn7hLW_VWzut875vuqWCCo7jqAopRcnVs6wU_KTksusheSehqRK8muUQkNnsDrw2-H8!/?uri=nm:oid:seguro-ahorro.patrimonio-vida-banorte', 'https://www.banorte.com/wps/portal/banorte/Home/cuentas-y-tarjetas/tarjetas-de-credito/asistencias-y-seguros']}\n",
      "{'categoria': 'Internacional', 'urls': ['https://www.banorte.com/wps/portal/banorte/Home/internacional/cobros-internacionales', 'https://www.banorte.com/wps/portal/banorte/Home/internacional/compraventa-divisas', 'https://www.banorte.com/wps/portal/banorte/Home/internacional/pagos-globales', 'https://www.banorte.com/wps/portal/banorte/Home/internacional/cobros-internacionales/cobranza-simple-express', 'https://www.banorte.com/wps/portal/banorte/Home/internacional/cobros-internacionales/cobranza-simple-pura', 'https://www.banorte.com/wps/portal/banorte/Home/internacional/cobros-internacionales/recepcion-transferencia-internacional', 'https://www.banorte.com/wps/portal/banorte/Home/internacional/compraventa-divisas', 'https://www.banorte.com/wps/portal/banorte/Home/internacional/pagos-globales/cobranza-simple-recibida', 'https://www.banorte.com/wps/portal/banorte/Home/internacional/pagos-globales/envio-de-transferencias-internacionales', 'https://www.banorte.com/wps/portal/banorte/Home/internacional/pagos-globales/giros-comerciales-en-moneda-extranjera']}\n",
      "{'categoria': 'Servicios en Línea', 'urls': ['https://www.banorte.com/wps/portal/banorte/Home/servicios-en-linea/corresponsales', 'https://www.banorte.com/wps/portal/banorte/Home/servicios-en-linea/asistente-virual-maya', 'https://www.banorte.com/wps/portal/banorte/Home/servicios-en-linea/banca-digital/banorte-movil', 'https://www.banorte.com/wps/portal/banorte/Home/servicios-en-linea/banca-digital/banco-linea', 'https://www.banorte.com/wps/portal/banorte/Home/servicios-en-linea/cajeros-automaticos/cajeros-automaticos', 'https://www.banorte.com/wps/portal/banorte/Home/servicios-en-linea/cajeros-automaticos/cajero-multiple', 'https://www.banorte.com/wps/portal/banorte/Home/servicios-en-linea/cajeros-automaticos/cajero-empresarial-banorte']}\n",
      "{'categoria': 'Nómina', 'urls': ['https://www.banorte.com/wps/portal/banorte/Home/cuentas-y-tarjetas/cuentas-de-nomina', 'https://www.banorte.com/wps/portal/banorte/Home/cuentas-y-tarjetas/cuentas-de-nomina/nomina-empresas']}\n"
     ]
    }
   ],
   "source": [
    "def convertir_txt_a_diccionarios(archivo_txt):\n",
    "    # Abrir y leer el archivo\n",
    "    with open(archivo_txt, 'r') as file:\n",
    "        lines = file.readlines()\n",
    "    \n",
    "    lista_diccionarios = []\n",
    "    diccionario_actual = {}\n",
    "    \n",
    "    # Iterar sobre cada línea del archivo\n",
    "    for line in lines:\n",
    "        line = line.strip()\n",
    "        # Si es un encabezado de categoría\n",
    "        if line.endswith(':'):\n",
    "            # Si ya tenemos un diccionario con URLs, lo añadimos a la lista\n",
    "            if diccionario_actual:\n",
    "                lista_diccionarios.append(diccionario_actual)\n",
    "            # Creamos un nuevo diccionario para la nueva categoría\n",
    "            diccionario_actual = {'categoria': line[:-1], 'urls': []}\n",
    "        # Si es una URL\n",
    "        elif line.startswith('http'):\n",
    "            # Añadir la URL al diccionario actual\n",
    "            diccionario_actual['urls'].append(line)\n",
    "    \n",
    "    # Añadir el último diccionario si no se ha añadido aún\n",
    "    if diccionario_actual:\n",
    "        lista_diccionarios.append(diccionario_actual)\n",
    "    \n",
    "    return lista_diccionarios\n",
    "\n",
    "# Ruta del archivo\n",
    "archivo_txt = '/Users/ajelandro/Documents/GitHub/hackathon/info_banorte.txt'\n",
    "lista_de_diccionarios = convertir_txt_a_diccionarios(archivo_txt)\n",
    "\n",
    "# Imprimir el resultado\n",
    "for diccionario in lista_de_diccionarios:\n",
    "    print(diccionario)"
   ]
  },
  {
   "cell_type": "code",
   "execution_count": 4,
   "metadata": {},
   "outputs": [],
   "source": [
    "import json\n",
    "# Guardar la lista de diccionarios como un archivo JSON\n",
    "ruta_json = '/Users/ajelandro/Documents/GitHub/hackathon/data/urls.json'\n",
    "with open(ruta_json, 'w') as json_file:\n",
    "    json.dump(lista_de_diccionarios, json_file, indent=4)"
   ]
  },
  {
   "cell_type": "code",
   "execution_count": null,
   "metadata": {},
   "outputs": [],
   "source": []
  }
 ],
 "metadata": {
  "kernelspec": {
   "display_name": "alex",
   "language": "python",
   "name": "python3"
  },
  "language_info": {
   "codemirror_mode": {
    "name": "ipython",
    "version": 3
   },
   "file_extension": ".py",
   "mimetype": "text/x-python",
   "name": "python",
   "nbconvert_exporter": "python",
   "pygments_lexer": "ipython3",
   "version": "3.10.14"
  }
 },
 "nbformat": 4,
 "nbformat_minor": 2
}
